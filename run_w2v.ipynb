{
 "cells": [
  {
   "cell_type": "markdown",
   "metadata": {},
   "source": [
    "# Notebook for å kjøre talegjenkjenning med wav2vec"
   ]
  },
  {
   "cell_type": "markdown",
   "metadata": {},
   "source": [
    "## Import"
   ]
  },
  {
   "cell_type": "code",
   "execution_count": 7,
   "metadata": {},
   "outputs": [],
   "source": [
    "import torch\n",
    "import pandas as pd\n",
    "import librosa\n",
    "from transformers import Wav2Vec2ForCTC, Wav2Vec2ProcessorWithLM\n",
    "from pyannote.audio import Pipeline\n",
    "from pathlib import Path"
   ]
  },
  {
   "cell_type": "markdown",
   "metadata": {},
   "source": [
    "## Segmentering"
   ]
  },
  {
   "cell_type": "code",
   "execution_count": 8,
   "metadata": {},
   "outputs": [],
   "source": [
    "# Bare voice activity detection. Dette gir trolig mindre segmenter og er mye raskere, \n",
    "# men det er ikke inndeling i talere\n",
    "def run_vad(audiofile,\n",
    "            threshold = 0.5,\n",
    "            min_speech_duration_ms = 250,\n",
    "            min_silence_duration_ms = 100,\n",
    "            window_size_samples = 1536,\n",
    "            speech_pad_ms = 30,\n",
    "            return_seconds = True,\n",
    "            outfile=None):\n",
    "    \"\"\"Run voice activity detection on an audiofile.\n",
    "\n",
    "    Parameter\n",
    "    ----------\n",
    "    audiofile\n",
    "        the adiofile to run VAD on\n",
    "    outfile=None\n",
    "        the path to an csv file that the diarized DataFrame is stored to\n",
    "\n",
    "    Return: a DataFrame with columns 'speaker', 'start', 'end', 'duration',\n",
    "    and 'audio_path' if outfile is None, else create a csv file with the\n",
    "    name specified in outfile\n",
    "    \"\"\"\n",
    "    model, utils = torch.hub.load(repo_or_dir='snakers4/silero-vad',\n",
    "                              model='silero_vad',\n",
    "                              force_reload=False)\n",
    "    model\n",
    "    get_ts, read_audio = utils[0], utils[2]\n",
    "    audio_tns = read_audio(audiofile)\n",
    "    vad = get_ts(audio_tns,\n",
    "                 model,\n",
    "                 threshold=threshold,\n",
    "                 min_speech_duration_ms=min_speech_duration_ms,\n",
    "                 min_silence_duration_ms=min_silence_duration_ms,\n",
    "                 window_size_samples=window_size_samples,\n",
    "                 speech_pad_ms=speech_pad_ms,\n",
    "                 return_seconds=return_seconds)\n",
    "\n",
    "    df = pd.DataFrame(vad)\n",
    "    df.loc[:, \"duration\"] = df.end - df.start\n",
    "    df.loc[:, \"audio_path\"] = audiofile\n",
    "    if outfile is None:\n",
    "        return df\n",
    "    else:\n",
    "        df.to_csv(outfile, index=False)"
   ]
  },
  {
   "cell_type": "code",
   "execution_count": 9,
   "metadata": {},
   "outputs": [],
   "source": [
    "# Denne funksjonen gir inndeling i talere i tillegg til voice activity detection.\n",
    "# Merk at segmentene noen ganger blir for lange (+30 sek), og derfor filtreres ut\n",
    "# av talegjenkjenningsfunksjonen\n",
    "def diarize(audiofile, outfile=None):\n",
    "    \"\"\"Identify all the individual speakers in an audio file and return\n",
    "    a DataFrame with segments with start and end codes and speaker tags.\n",
    "\n",
    "    Parameter\n",
    "    ----------\n",
    "    audiofile\n",
    "        the adiofile to diarize\n",
    "    outfile=None\n",
    "        the path to an csv file that the diarized DataFrame is stored to\n",
    "\n",
    "    Return: a DataFrame with columns 'speaker', 'start', 'end', 'duration',\n",
    "    and 'audio_path' if outfile is None, else create a csv file with the\n",
    "    name specified in outfile\n",
    "    \"\"\"\n",
    "    pipeline = Pipeline.from_pretrained(\"pyannote/speaker-diarization\")\n",
    "    # parameters = pipeline.default_parameters() # might be possible to get shorter segments by adjusting params\n",
    "    # parameters[\"min_duration_off\"] = 0.001\n",
    "    # parameters[\"onset\"] = 0.9\n",
    "    # pipeline.instantiate(parameters)\n",
    "\n",
    "    diarization = pipeline(audiofile)\n",
    "    result = []\n",
    "    for turn, _, speaker in diarization.itertracks(yield_label=True):\n",
    "        result.append({\"speaker\": speaker, \"start\": turn.start, \"end\": turn.end})\n",
    "    df = pd.DataFrame(result)\n",
    "    df.loc[:, \"duration\"] = df.end - df.start\n",
    "    df.loc[:, \"audio_path\"] = audiofile\n",
    "    if outfile is None:\n",
    "        return df\n",
    "    else:\n",
    "        df.to_csv(outfile, index=False)"
   ]
  },
  {
   "cell_type": "code",
   "execution_count": 10,
   "metadata": {},
   "outputs": [],
   "source": [
    "# Lydfil som skal segmenteres\n",
    "# audiofile = Path(\"path/to/audiofile\") \n",
    "audiofile = Path(\"20220202_Øyvind_Stokke.wav\") "
   ]
  },
  {
   "cell_type": "code",
   "execution_count": 11,
   "metadata": {},
   "outputs": [
    {
     "name": "stderr",
     "output_type": "stream",
     "text": [
      "Using cache found in /home/pers/.cache/torch/hub/snakers4_silero-vad_master\n"
     ]
    }
   ],
   "source": [
    "# Bare VAD:\n",
    "segmentation_df = run_vad(audiofile, min_silence_duration_ms=10)\n",
    "# Diarization\n",
    "#segmentation_df = diarize(audiofile)"
   ]
  },
  {
   "cell_type": "markdown",
   "metadata": {},
   "source": [
    "## Kjør talegjenkjenning"
   ]
  },
  {
   "cell_type": "code",
   "execution_count": 15,
   "metadata": {},
   "outputs": [],
   "source": [
    "def wav2vec_transcribe(\n",
    "    filepath, processor, model, offset, duration, device, limit=30, print_output=False\n",
    "):\n",
    "    \"\"\"Transcribe an audiofile or segment of an audio file with wav2vec.\n",
    "\n",
    "    Parameter\n",
    "    ----------\n",
    "    filepath\n",
    "        path to the audio file\n",
    "    processor\n",
    "        a wav2vec processor, e.g. Wav2Vec2ProcessorWithLM.from_pretrained('NbAiLab/nb-wav2vec2-1b-bokmaal')\n",
    "    model\n",
    "        a wav2vec model, e.g. Wav2Vec2ForCTC.from_pretrained('NbAiLab/nb-wav2vec2-1b-bokmaal')\n",
    "    offset\n",
    "        where to start transcribing, in seconds from start of file\n",
    "    duration\n",
    "        the duration of the audio segment, in seconds from the offset, which should be transcribed.\n",
    "    device\n",
    "        the device the process should be run on (cpu of gpu)\n",
    "    limit=30:\n",
    "        The max amount of seconds accepted for a segment\n",
    "    print_output= False\n",
    "        Option to print the transcriptions to terminal\n",
    "\n",
    "    return: the predicted transcription of the audio segment\n",
    "    \"\"\"\n",
    "\n",
    "    try:\n",
    "        if duration > limit:\n",
    "            if print_output:\n",
    "                print(\"\")\n",
    "            return \"\"\n",
    "        else:\n",
    "            audio, rate = librosa.load(\n",
    "                filepath, sr=16000, offset=offset, duration=duration\n",
    "            )\n",
    "            input_values = processor(\n",
    "                audio, sampling_rate=rate, return_tensors=\"pt\"\n",
    "            ).input_values.to(device)\n",
    "            logits = model(input_values).logits.cpu()\n",
    "            transcription = processor.batch_decode(logits.detach().numpy()).text\n",
    "            if print_output:\n",
    "                print(transcription[0])\n",
    "            return transcription[0]\n",
    "    except Exception as e:\n",
    "        print(e)\n",
    "        if print_output:\n",
    "            print(\"_\")\n",
    "        return \"_\"\n",
    "\n",
    "\n",
    "def transcribe_df_w2v(\n",
    "    df, processor, model, device, audio_dir=None, print_output=False, outfile=None\n",
    "):\n",
    "    \"\"\"Transcribe audio with wav2vec given a DataFrame with segments. A column 'wav2vec' will\n",
    "    be created with the predicted transcriptions.\n",
    "\n",
    "    Parameter\n",
    "    ----------\n",
    "    df\n",
    "        a DataFrame with segments\n",
    "    processor\n",
    "        a wav2vec processor, e.g. Wav2Vec2ProcessorWithLM.from_pretrained('NbAiLab/nb-wav2vec2-1b-bokmaal')\n",
    "    model\n",
    "        a wav2vec model, e.g. Wav2Vec2ForCTC.from_pretrained('NbAiLab/nb-wav2vec2-1b-bokmaal')\n",
    "    device\n",
    "        the device the process should be run on (cpu or gpu)\n",
    "    audio_dir=None\n",
    "        a directory where the files in the 'audio_path' column in the df are located\n",
    "        if this column does not contain complete paths\n",
    "    print_output= False\n",
    "        Option to print the transcriptions to terminal\n",
    "    outfile=None\n",
    "        the path to an csv file that the transcribed DataFrame is stored to\n",
    "\n",
    "    return: a DataFrame with transcriptions in the column 'wav2vec'if outfile is None,\n",
    "    else create a csv file with the name specified in outfile\"\"\"\n",
    "    if audio_dir is None:\n",
    "        df.loc[:, \"wav2vec\"] = df.apply(\n",
    "            lambda row: wav2vec_transcribe(\n",
    "                row.audio_path,\n",
    "                processor,\n",
    "                model,\n",
    "                row.start,\n",
    "                row.duration,\n",
    "                device,\n",
    "                print_output=print_output,\n",
    "            ),\n",
    "            axis=1,\n",
    "        )\n",
    "    else:\n",
    "        df.loc[:, \"wav2vec\"] = df.apply(\n",
    "            lambda row: wav2vec_transcribe(\n",
    "                audio_dir + row.audio_path,\n",
    "                processor,\n",
    "                model,\n",
    "                row.start,\n",
    "                row.duration,\n",
    "                device,\n",
    "                print_output=print_output,\n",
    "            ),\n",
    "            axis=1,\n",
    "        )\n",
    "    if outfile is None:\n",
    "        return df\n",
    "    else:\n",
    "        df.to_csv(outfile, index=False)\n",
    "        return df"
   ]
  },
  {
   "cell_type": "code",
   "execution_count": 14,
   "metadata": {},
   "outputs": [],
   "source": [
    "model_name = \"NbAiLab/nb-wav2vec2-1b-bokmaal\" # pek på en norsk w2v-modell her, f.eks. \"NbAiLab/nb-wav2vec2-1b-bokmaal\"\n",
    "device = \"cuda\" if torch.cuda.is_available() else \"cpu\"\n",
    "processor = Wav2Vec2ProcessorWithLM.from_pretrained(model_name)\n",
    "model = Wav2Vec2ForCTC.from_pretrained(model_name).to(device)"
   ]
  },
  {
   "cell_type": "code",
   "execution_count": 16,
   "metadata": {},
   "outputs": [],
   "source": [
    "# Filsti til utfil\n",
    "# outfile = Path(\"path/to/output\")\n",
    "outfile = Path(\"testtranskripsjon.csv\")\n"
   ]
  },
  {
   "cell_type": "code",
   "execution_count": 17,
   "metadata": {},
   "outputs": [
    {
     "name": "stdout",
     "output_type": "stream",
     "text": [
      "dagens gjest har sin ekspertise inn i vår tids viktigste tema\n",
      "klimaendringer rettferdighet\n",
      "ressursforvaltning\n",
      "hører om det av en stake møtte filosofien\n",
      "og aldri klarte å bli kvist\n",
      "observatoriet\n",
      "en forskningspotkast fra ut norges arktiske universitet\n",
      "med geirhevnsell ringvold\n",
      "mannen som lurer på det meste\n"
     ]
    }
   ],
   "source": [
    "# Transkriber. Om ikke outfile er None, blir\n",
    "# transkripsjonen skrevet til utfila og en dataramme med\n",
    "# transkripsjonen blir returnert\n",
    "trans_df = transcribe_df_w2v(\n",
    "    segmentation_df,\n",
    "    processor,\n",
    "    model,\n",
    "    device,\n",
    "    print_output=True, # printer ut transkripsjonene. Dette kan fylle opp minnet for lange lydfiler\n",
    "    outfile=outfile\n",
    ")"
   ]
  }
 ],
 "metadata": {
  "kernelspec": {
   "display_name": "scribe",
   "language": "python",
   "name": "scribe"
  },
  "language_info": {
   "codemirror_mode": {
    "name": "ipython",
    "version": 3
   },
   "file_extension": ".py",
   "mimetype": "text/x-python",
   "name": "python",
   "nbconvert_exporter": "python",
   "pygments_lexer": "ipython3",
   "version": "3.8.10"
  },
  "vscode": {
   "interpreter": {
    "hash": "e7370f93d1d0cde622a1f8e1c04877d8463912d04d973331ad4851f04de6915a"
   }
  }
 },
 "nbformat": 4,
 "nbformat_minor": 2
}
